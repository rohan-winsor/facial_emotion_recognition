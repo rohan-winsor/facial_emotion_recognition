{
 "cells": [
  {
   "cell_type": "code",
   "execution_count": 6,
   "metadata": {},
   "outputs": [],
   "source": [
    "import pandas as pd \n",
    "import numpy as np\n",
    "import matplotlib.pyplot as plt\n",
    "from sklearn.utils import shuffle\n",
    "from keras.utils import to_categorical"
   ]
  },
  {
   "cell_type": "code",
   "execution_count": 7,
   "metadata": {},
   "outputs": [],
   "source": [
    "def get_data():\n",
    "    data = pd.read_csv(\"fer2013.csv\", index_col=False)\n",
    "    X = [[int(a) for a in i.split()] for i in data['pixels']]\n",
    "    Y = data['emotion']\n",
    "    X, Y = np.array(X) / 255.0, np.array(Y)\n",
    "    training_len = int(len(X) * 0.8)\n",
    "    X, Y = shuffle(X, Y)\n",
    "    Xtrain, Ytrain = X[:training_len], Y[:training_len]\n",
    "    Xvalid, Yvalid = X[training_len:], Y[training_len:]\n",
    "    X0, Y0 = Xtrain[Ytrain!=1, :], Ytrain[Ytrain!=1]\n",
    "    X1 = Xtrain[Ytrain==1, :]\n",
    "    X1 = np.repeat(X1, 9, axis=0)\n",
    "    Xtrain = np.vstack([X0, X1])\n",
    "    Ytrain = np.concatenate((Y0, [1]*len(X1)))\n",
    "    Xtrain = Xtrain.reshape(-1, 48,48, 1)\n",
    "    Xvalid = Xvalid.reshape(-1, 48,48, 1)\n",
    "    \n",
    "    return Xtrain, to_categorical(Ytrain, 7), Xvalid, to_categorical(Yvalid, 7)"
   ]
  },
  {
   "cell_type": "code",
   "execution_count": 8,
   "metadata": {},
   "outputs": [],
   "source": [
    "Xtrain, Ytrain, Xvalid, Yvalid = get_data()"
   ]
  },
  {
   "cell_type": "code",
   "execution_count": 19,
   "metadata": {},
   "outputs": [],
   "source": [
    "def show_img(Xtrain, label=23):\n",
    "    y_label = ['Angery', 'Disgust', 'Fear', 'Happy', 'Sad', 'Suprise', 'Neutral']\n",
    "    img = Xtrain[label-1:label,:].reshape(48, 48)\n",
    "    print(img.shape)\n",
    "    print(y_label[np.argmax(Ytrain[label-1:label])])\n",
    "    return img"
   ]
  },
  {
   "cell_type": "code",
   "execution_count": 20,
   "metadata": {},
   "outputs": [
    {
     "name": "stdout",
     "output_type": "stream",
     "text": [
      "(48, 48)\n",
      "Fear\n"
     ]
    },
    {
     "data": {
      "text/plain": [
       "<matplotlib.image.AxesImage at 0x1aac4b92a08>"
      ]
     },
     "execution_count": 20,
     "metadata": {},
     "output_type": "execute_result"
    },
    {
     "data": {
      "image/png": "[encoded data removed]",
      "text/plain": [
       "<Figure size 432x288 with 1 Axes>"
      ]
     },
     "metadata": {
      "needs_background": "light"
     },
     "output_type": "display_data"
    }
   ],
   "source": [
    "plt.imshow(show_img(Xtrain), cmap='gray')"
   ]
  },
  {
   "cell_type": "code",
   "execution_count": 21,
   "metadata": {},
   "outputs": [
    {
     "data": {
      "text/plain": [
       "(28709, 48, 48, 1)"
      ]
     },
     "execution_count": 21,
     "metadata": {},
     "output_type": "execute_result"
    }
   ],
   "source": [
    "Xtrain.shape"
   ]
  },
  {
   "cell_type": "code",
   "execution_count": 23,
   "metadata": {},
   "outputs": [],
   "source": [
    "all_stuff = [np.argmax(Ytrain[i]) for i in range(0,len(Ytrain))]"
   ]
  },
  {
   "cell_type": "code",
   "execution_count": 28,
   "metadata": {},
   "outputs": [
    {
     "name": "stdout",
     "output_type": "stream",
     "text": [
      "0 1.821419550391513\n",
      "1 16.653579676674365\n",
      "2 1.7502427184466018\n",
      "3 1.0\n",
      "4 1.5032311861580154\n",
      "5 2.2506242197253434\n",
      "6 1.4465396188565698\n"
     ]
    }
   ],
   "source": [
    "for i in list(set(all_stuff)):\n",
    "    print(i, 7211/all_stuff.count(i))"
   ]
  },
  {
   "cell_type": "code",
   "execution_count": null,
   "metadata": {},
   "outputs": [],
   "source": []
  }
 ],
 "metadata": {
  "kernelspec": {
   "display_name": "Python 3",
   "language": "python",
   "name": "python3"
  },
  "language_info": {
   "codemirror_mode": {
    "name": "ipython",
    "version": 3
   },
   "file_extension": ".py",
   "mimetype": "text/x-python",
   "name": "python",
   "nbconvert_exporter": "python",
   "pygments_lexer": "ipython3",
   "version": "3.7.4"
  }
 },
 "nbformat": 4,
 "nbformat_minor": 4
}
